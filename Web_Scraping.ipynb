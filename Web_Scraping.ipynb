{
  "nbformat": 4,
  "nbformat_minor": 0,
  "metadata": {
    "colab": {
      "provenance": []
    },
    "kernelspec": {
      "name": "python3",
      "display_name": "Python 3"
    },
    "language_info": {
      "name": "python"
    }
  },
  "cells": [
    {
      "cell_type": "code",
      "source": [
        "import pandas as pd\n",
        "#pip install beautifulsoup4\n",
        "#pip install beautifulsoup4 requests\n",
        "import requests\n",
        "from bs4 import BeautifulSoup\n",
        "\n",
        "# Target URL\n",
        "url = \"http://books.toscrape.com\"\n",
        "\n",
        "# Send a GET request\n",
        "response = requests.get(url)\n",
        "\n",
        "# Parse the HTML\n",
        "soup = BeautifulSoup(response.text, 'html.parser')\n",
        "\n",
        "# Find all book containers\n",
        "books = soup.find_all('article', class_='product_pod')\n",
        "\n",
        "for book in books:\n",
        "    title = book.h3.a['title']\n",
        "    price = book.find('p', class_='price_color').text\n",
        "    print(f\"Title: {title}\\nPrice: {price}\\n\")"
      ],
      "metadata": {
        "colab": {
          "base_uri": "https://localhost:8080/"
        },
        "id": "iiRyJI5lHCfO",
        "outputId": "8afe3e6a-0ceb-4fb3-8e27-127516c79094"
      },
      "execution_count": 1,
      "outputs": [
        {
          "output_type": "stream",
          "name": "stdout",
          "text": [
            "Title: A Light in the Attic\n",
            "Price: Â£51.77\n",
            "\n",
            "Title: Tipping the Velvet\n",
            "Price: Â£53.74\n",
            "\n",
            "Title: Soumission\n",
            "Price: Â£50.10\n",
            "\n",
            "Title: Sharp Objects\n",
            "Price: Â£47.82\n",
            "\n",
            "Title: Sapiens: A Brief History of Humankind\n",
            "Price: Â£54.23\n",
            "\n",
            "Title: The Requiem Red\n",
            "Price: Â£22.65\n",
            "\n",
            "Title: The Dirty Little Secrets of Getting Your Dream Job\n",
            "Price: Â£33.34\n",
            "\n",
            "Title: The Coming Woman: A Novel Based on the Life of the Infamous Feminist, Victoria Woodhull\n",
            "Price: Â£17.93\n",
            "\n",
            "Title: The Boys in the Boat: Nine Americans and Their Epic Quest for Gold at the 1936 Berlin Olympics\n",
            "Price: Â£22.60\n",
            "\n",
            "Title: The Black Maria\n",
            "Price: Â£52.15\n",
            "\n",
            "Title: Starving Hearts (Triangular Trade Trilogy, #1)\n",
            "Price: Â£13.99\n",
            "\n",
            "Title: Shakespeare's Sonnets\n",
            "Price: Â£20.66\n",
            "\n",
            "Title: Set Me Free\n",
            "Price: Â£17.46\n",
            "\n",
            "Title: Scott Pilgrim's Precious Little Life (Scott Pilgrim #1)\n",
            "Price: Â£52.29\n",
            "\n",
            "Title: Rip it Up and Start Again\n",
            "Price: Â£35.02\n",
            "\n",
            "Title: Our Band Could Be Your Life: Scenes from the American Indie Underground, 1981-1991\n",
            "Price: Â£57.25\n",
            "\n",
            "Title: Olio\n",
            "Price: Â£23.88\n",
            "\n",
            "Title: Mesaerion: The Best Science Fiction Stories 1800-1849\n",
            "Price: Â£37.59\n",
            "\n",
            "Title: Libertarianism for Beginners\n",
            "Price: Â£51.33\n",
            "\n",
            "Title: It's Only the Himalayas\n",
            "Price: Â£45.17\n",
            "\n"
          ]
        }
      ]
    },
    {
      "cell_type": "code",
      "source": [
        "# Find all book containers\n",
        "book_data = []\n",
        "books = soup.find_all('article', class_='product_pod')\n",
        "\n",
        "for book in books:\n",
        "    title = book.h3.a['title']\n",
        "    price = book.find('p', class_='price_color').text\n",
        "    print(f\"Title: {title}\\nPrice: {price}\\n\")\n",
        "    book_data.append({\"Title\": title, \"Price\": price})"
      ],
      "metadata": {
        "colab": {
          "base_uri": "https://localhost:8080/"
        },
        "id": "DP4v9nKUHOn-",
        "outputId": "1dbd06cd-847c-4d37-a35d-6ada0a71368c"
      },
      "execution_count": 2,
      "outputs": [
        {
          "output_type": "stream",
          "name": "stdout",
          "text": [
            "Title: A Light in the Attic\n",
            "Price: Â£51.77\n",
            "\n",
            "Title: Tipping the Velvet\n",
            "Price: Â£53.74\n",
            "\n",
            "Title: Soumission\n",
            "Price: Â£50.10\n",
            "\n",
            "Title: Sharp Objects\n",
            "Price: Â£47.82\n",
            "\n",
            "Title: Sapiens: A Brief History of Humankind\n",
            "Price: Â£54.23\n",
            "\n",
            "Title: The Requiem Red\n",
            "Price: Â£22.65\n",
            "\n",
            "Title: The Dirty Little Secrets of Getting Your Dream Job\n",
            "Price: Â£33.34\n",
            "\n",
            "Title: The Coming Woman: A Novel Based on the Life of the Infamous Feminist, Victoria Woodhull\n",
            "Price: Â£17.93\n",
            "\n",
            "Title: The Boys in the Boat: Nine Americans and Their Epic Quest for Gold at the 1936 Berlin Olympics\n",
            "Price: Â£22.60\n",
            "\n",
            "Title: The Black Maria\n",
            "Price: Â£52.15\n",
            "\n",
            "Title: Starving Hearts (Triangular Trade Trilogy, #1)\n",
            "Price: Â£13.99\n",
            "\n",
            "Title: Shakespeare's Sonnets\n",
            "Price: Â£20.66\n",
            "\n",
            "Title: Set Me Free\n",
            "Price: Â£17.46\n",
            "\n",
            "Title: Scott Pilgrim's Precious Little Life (Scott Pilgrim #1)\n",
            "Price: Â£52.29\n",
            "\n",
            "Title: Rip it Up and Start Again\n",
            "Price: Â£35.02\n",
            "\n",
            "Title: Our Band Could Be Your Life: Scenes from the American Indie Underground, 1981-1991\n",
            "Price: Â£57.25\n",
            "\n",
            "Title: Olio\n",
            "Price: Â£23.88\n",
            "\n",
            "Title: Mesaerion: The Best Science Fiction Stories 1800-1849\n",
            "Price: Â£37.59\n",
            "\n",
            "Title: Libertarianism for Beginners\n",
            "Price: Â£51.33\n",
            "\n",
            "Title: It's Only the Himalayas\n",
            "Price: Â£45.17\n",
            "\n"
          ]
        }
      ]
    },
    {
      "cell_type": "code",
      "source": [
        "df=pd.DataFrame(book_data)\n",
        "print(df.head())"
      ],
      "metadata": {
        "colab": {
          "base_uri": "https://localhost:8080/"
        },
        "id": "ZOo9asVYHYV9",
        "outputId": "a1a46f1c-327e-4fa6-ae48-88d1d6591c35"
      },
      "execution_count": 4,
      "outputs": [
        {
          "output_type": "stream",
          "name": "stdout",
          "text": [
            "                                   Title    Price\n",
            "0                   A Light in the Attic  Â£51.77\n",
            "1                     Tipping the Velvet  Â£53.74\n",
            "2                             Soumission  Â£50.10\n",
            "3                          Sharp Objects  Â£47.82\n",
            "4  Sapiens: A Brief History of Humankind  Â£54.23\n"
          ]
        }
      ]
    }
  ]
}